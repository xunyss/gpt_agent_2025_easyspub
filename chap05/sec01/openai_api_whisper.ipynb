{
 "cells": [
  {
   "metadata": {
    "ExecuteTime": {
     "end_time": "2025-08-08T08:16:16.161813Z",
     "start_time": "2025-08-08T08:16:15.931597Z"
    }
   },
   "cell_type": "code",
   "source": [
    "import os\n",
    "\n",
    "from dotenv import load_dotenv\n",
    "from openai import OpenAI\n",
    "\n",
    "load_dotenv()\n",
    "api_key = os.getenv(\"OPENAI_API_KEY\")\n",
    "client = OpenAI(api_key=api_key)"
   ],
   "outputs": [],
   "execution_count": 1
  },
  {
   "metadata": {
    "ExecuteTime": {
     "end_time": "2025-08-08T08:16:25.425786Z",
     "start_time": "2025-08-08T08:16:23.886937Z"
    }
   },
   "cell_type": "code",
   "source": [
    "audio_file_path = \"../audio/lsy_audio_2023_58s.mp3\" # MP3 파일 경로 입력\n",
    "\n",
    "with open(audio_file_path, \"rb\") as audio_file:\n",
    "    # multi-part request\n",
    "    transcription = client.audio.transcriptions.create(\n",
    "        model=\"whisper-v3\",\n",
    "        file=audio_file\n",
    "    )\n",
    "\n",
    "transcription"
   ],
   "outputs": [
    {
     "data": {
      "text/plain": [
       "Transcription(text='안녕하세요. 이 강의는 GPT API로 챗봇 만들기 라는 내용을 다루는 강의입니다. GPT API에 대해서 생소하신 분들도 있을텐데 우리가 잘 알고 있는 챗 GPT 기능을 이용해서 우리가 원하는 프로그램을 어떻게 만드는지에 대해서 이야기할 거에요. 그래서 이런 강의들이 사실 많이 있습니다. 그래서 여러가지들이 있는데 이 강의 특징이라고 한다면 GPT로 명확한 미션을 달성하는 챗봇 프로그램 만드는 게 사실 쉽지는 않은데 이걸 어떻게 해서 구현을 하는지 그리고 그게 왜 필요한지에 대해서 좀 이야기를 할 거고요. 그 예제로 예제는 여러 가지가 될 수 있는데 여기서 예제로 하는 것은 음악 플레이리스트 동영상을 자동으로 대화를 통해서 생성하는 프로그램 만드는 것을 다루려고 합니다. 그래서 프로그램이 실행되는 모습을 한번 보여드릴게요. 우리가 만들 프로그램은 이런 식으로 이제 나타나게 되고', logprobs=None, usage=None)"
      ]
     },
     "execution_count": 2,
     "metadata": {},
     "output_type": "execute_result"
    }
   ],
   "execution_count": 2
  },
  {
   "cell_type": "code",
   "metadata": {
    "ExecuteTime": {
     "end_time": "2025-08-08T08:16:50.791772Z",
     "start_time": "2025-08-08T08:16:49.370951Z"
    }
   },
   "source": [
    "with open(audio_file_path, \"rb\") as audio_file:\n",
    "    transcription = client.audio.translations.create(\n",
    "        model=\"whisper-v3\",\n",
    "        file=audio_file,\n",
    "    )\n",
    "\n",
    "transcription"
   ],
   "outputs": [
    {
     "data": {
      "text/plain": [
       "Translation(text=\"Hello, this is a lecture on how to make a chatbot with GPT API. Some of you may not be familiar with GPT API. I'm going to talk about how we make the program we want using the chat GPT function that we know well. There are actually a lot of lectures like this. There are a lot of things, but if you say that this lecture is a feature, It's not easy to make a program with a music playlist, but I'll talk about how to implement it and why it's necessary. For example, I'm going to make a program that automatically creates music playlist videos through conversation. I'll show you how the program is running. The program we're going to make will appear like this.\")"
      ]
     },
     "execution_count": 3,
     "metadata": {},
     "output_type": "execute_result"
    }
   ],
   "execution_count": 3
  },
  {
   "cell_type": "code",
   "execution_count": null,
   "metadata": {},
   "outputs": [],
   "source": []
  }
 ],
 "metadata": {
  "kernelspec": {
   "display_name": "venv",
   "language": "python",
   "name": "python3"
  },
  "language_info": {
   "codemirror_mode": {
    "name": "ipython",
    "version": 3
   },
   "file_extension": ".py",
   "mimetype": "text/x-python",
   "name": "python",
   "nbconvert_exporter": "python",
   "pygments_lexer": "ipython3",
   "version": "3.12.9"
  }
 },
 "nbformat": 4,
 "nbformat_minor": 2
}
