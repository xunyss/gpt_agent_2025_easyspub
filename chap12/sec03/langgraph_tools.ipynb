{
 "cells": [
  {
   "cell_type": "code",
   "execution_count": 1,
   "metadata": {},
   "outputs": [
    {
     "data": {
      "text/plain": [
       "AIMessage(content='안녕하세요! 어떻게 도와드릴까요?', additional_kwargs={'refusal': None}, response_metadata={'token_usage': {'completion_tokens': 11, 'prompt_tokens': 10, 'total_tokens': 21, 'completion_tokens_details': {'accepted_prediction_tokens': 0, 'audio_tokens': 0, 'reasoning_tokens': 0, 'rejected_prediction_tokens': 0}, 'prompt_tokens_details': {'audio_tokens': 0, 'cached_tokens': 0}}, 'model_name': 'gpt-4o-2024-08-06', 'system_fingerprint': 'fp_eb9dce56a8', 'finish_reason': 'stop', 'logprobs': None}, id='run-9d4a1a9c-014b-4d93-9aa2-d8062a85c60d-0', usage_metadata={'input_tokens': 10, 'output_tokens': 11, 'total_tokens': 21, 'input_token_details': {'audio': 0, 'cache_read': 0}, 'output_token_details': {'audio': 0, 'reasoning': 0}})"
      ]
     },
     "execution_count": 1,
     "metadata": {},
     "output_type": "execute_result"
    }
   ],
   "source": [
    "from langchain_openai import ChatOpenAI\n",
    "\n",
    "# 모델 초기화\n",
    "model = ChatOpenAI(model=\"gpt-4o\", temperature=0.01)\n",
    "model.invoke('안녕하세요!')"
   ]
  },
  {
   "cell_type": "code",
   "execution_count": 2,
   "metadata": {},
   "outputs": [],
   "source": [
    "from typing import Annotated # annotated는 타입 힌트를 사용할 때 사용하는 함수\n",
    "from typing_extensions import TypedDict # TypedDict는 딕셔너리 타입을 정의할 때 사용하는 함수\n",
    "\n",
    "from langgraph.graph import StateGraph, START, END\n",
    "from langgraph.graph.message import add_messages\n",
    "\n",
    "class State(TypedDict):\n",
    "    \"\"\"\n",
    "    State 클래스는 TypedDict를 상속받습니다.\n",
    "\n",
    "    속성:\n",
    "        messages (Annotated[list[str], add_messages]): 메시지들은 \"list\" 타입을 가집니다. \n",
    "        주석에 있는 'add_messages' 함수는 이 상태 키가 어떻게 업데이트되어야 하는지를 정의합니다.\n",
    "        (이 경우, 메시지를 덮어쓰는 대신 리스트에 추가합니다)\n",
    "    \"\"\"\n",
    "    messages: Annotated[list[str], add_messages]\n",
    "\n",
    "# StateGraph 클래스를 사용하여 State 타입의 그래프를 생성합니다.\n",
    "graph_builder = StateGraph(State) "
   ]
  },
  {
   "cell_type": "code",
   "execution_count": 3,
   "metadata": {},
   "outputs": [
    {
     "name": "stderr",
     "output_type": "stream",
     "text": [
      "USER_AGENT environment variable not set, consider setting it to identify your requests.\n"
     ]
    }
   ],
   "source": [
    "from langchain_core.tools import tool\n",
    "from datetime import datetime\n",
    "import pytz\n",
    "from langchain_community.tools import DuckDuckGoSearchResults\n",
    "from langchain_community.utilities import DuckDuckGoSearchAPIWrapper\n",
    "\n",
    "import bs4\n",
    "from langchain_community.document_loaders import WebBaseLoader\n",
    "\n",
    "# 도구 함수 정의\n",
    "@tool\n",
    "def get_current_time(timezone: str, location: str) -> str:\n",
    "    \"\"\"현재 시각을 반환하는 함수.\"\"\"\n",
    "    try:\n",
    "        tz = pytz.timezone(timezone)\n",
    "        now = datetime.now(tz).strftime(\"%Y-%m-%d %H:%M:%S\")\n",
    "        result = f'{timezone} ({location}) 현재시각 {now}'\n",
    "        # print(result)\n",
    "        return result\n",
    "    except pytz.UnknownTimeZoneError:\n",
    "        return f\"알 수 없는 타임존: {timezone}\"\n",
    "    \n",
    "@tool\n",
    "def get_web_search(query: str, search_period: str='m') -> str:\n",
    "    \"\"\"\n",
    "    웹 검색을 수행하는 함수.\n",
    "\n",
    "    Args:\n",
    "        query (str): 검색어\n",
    "        search_period (str): 검색 기간 (e.g., \"w\" for past week (default), \"m\" for past month, \"y\" for past year, \"d\" for past day)\n",
    "\n",
    "    Returns:\n",
    "        str: 검색 결과\n",
    "    \"\"\"\n",
    "    wrapper = DuckDuckGoSearchAPIWrapper(\n",
    "        # region=\"kr-kr\", \n",
    "        time=search_period\n",
    "    )\n",
    "\n",
    "    print('\\n-------- WEB SEARCH --------')\n",
    "    print(query)\n",
    "    print(search_period)\n",
    "\n",
    "    search = DuckDuckGoSearchResults(\n",
    "        api_wrapper=wrapper,\n",
    "        # source=\"news\",\n",
    "        results_separator=';\\n'\n",
    "    )\n",
    "\n",
    "    searched = search.invoke(query)\n",
    "    \n",
    "    for i, result in enumerate(searched.split(';\\n')):\n",
    "        print(f'{i+1}. {result}')\n",
    "    \n",
    "    return searched\n",
    "\n",
    "# 도구 바인딩\n",
    "tools = [get_current_time, get_web_search]"
   ]
  },
  {
   "cell_type": "code",
   "execution_count": 4,
   "metadata": {},
   "outputs": [
    {
     "data": {
      "text/plain": [
       "'Asia/Seoul (서울) 현재시각 2025-02-26 23:55:35'"
      ]
     },
     "execution_count": 4,
     "metadata": {},
     "output_type": "execute_result"
    }
   ],
   "source": [
    "tools[0].invoke({\"timezone\": \"Asia/Seoul\", \"location\": \"서울\"})"
   ]
  },
  {
   "cell_type": "code",
   "execution_count": 5,
   "metadata": {},
   "outputs": [
    {
     "name": "stdout",
     "output_type": "stream",
     "text": [
      "\n",
      "-------- WEB SEARCH --------\n",
      "파이썬\n",
      "m\n",
      "1. snippet: Python Tutorials → In-depth articles and video courses Learning Paths → Guided study plans for accelerated learning Quizzes → Check your learning progress Browse Topics → Focus on a specific area or skill level Community Chat → Learn with other Pythonistas Office Hours → Live Q&A calls with Python experts Podcast → Hear what's new in the world of Python Books →, title: Python Tutorials - Real Python, link: https://realpython.com/\n",
      "2. snippet: 목차파이썬이 뭐야? 🐍파이썬으로 할 수 있는 것들 🎯파이썬 설치하고 시작하기 🛠️기본 문법 배우기 ️실전 예제: 간단한 프로젝트 만들기 🚀파이썬이 뭐야? 🐍파이썬(Python)은 간결하고 쉬운 문법을 가진 프로그래밍 언어야! 🎉처음 프로그래밍을 배우는 사람도 빠르게 익힐 수 있어서 인기가 ..., title: 파이썬을 배우면 뭐가 좋을까? 초보자를 위한 쉽고 귀여운 입문 가이드!, link: https://phdcand.tistory.com/52\n",
      "3. snippet: 1. 파이썬이란?파이썬(Python)은 쉽고 직관적인 문법을 가진 프로그래밍 언어로, 웹 개발, 데이터 분석, 인공지능, 자동화 등 다양한 분야에서 활용됩니다.파이썬은 배우기 쉬운 문법과 강력한 기능 덕분에 프로그래밍 입문자에게 가장 추천되는 언어 중 하나입니다., title: 초보자를 위한 파이썬(Python) 입문 가이드: 기초 문법부터 실전까지, link: https://cprcpr1252.tistory.com/17\n",
      "4. snippet: SciPy provides algorithms for optimization, integration, interpolation, eigenvalue problems, algebraic equations, differential equations, statistics and many other classes of problems., title: SciPy, link: https://scipy.org/\n"
     ]
    },
    {
     "data": {
      "text/plain": [
       "\"snippet: Python Tutorials → In-depth articles and video courses Learning Paths → Guided study plans for accelerated learning Quizzes → Check your learning progress Browse Topics → Focus on a specific area or skill level Community Chat → Learn with other Pythonistas Office Hours → Live Q&A calls with Python experts Podcast → Hear what's new in the world of Python Books →, title: Python Tutorials - Real Python, link: https://realpython.com/;\\nsnippet: 목차파이썬이 뭐야? 🐍파이썬으로 할 수 있는 것들 🎯파이썬 설치하고 시작하기 🛠️기본 문법 배우기 ️실전 예제: 간단한 프로젝트 만들기 🚀파이썬이 뭐야? 🐍파이썬(Python)은 간결하고 쉬운 문법을 가진 프로그래밍 언어야! 🎉처음 프로그래밍을 배우는 사람도 빠르게 익힐 수 있어서 인기가 ..., title: 파이썬을 배우면 뭐가 좋을까? 초보자를 위한 쉽고 귀여운 입문 가이드!, link: https://phdcand.tistory.com/52;\\nsnippet: 1. 파이썬이란?파이썬(Python)은 쉽고 직관적인 문법을 가진 프로그래밍 언어로, 웹 개발, 데이터 분석, 인공지능, 자동화 등 다양한 분야에서 활용됩니다.파이썬은 배우기 쉬운 문법과 강력한 기능 덕분에 프로그래밍 입문자에게 가장 추천되는 언어 중 하나입니다., title: 초보자를 위한 파이썬(Python) 입문 가이드: 기초 문법부터 실전까지, link: https://cprcpr1252.tistory.com/17;\\nsnippet: SciPy provides algorithms for optimization, integration, interpolation, eigenvalue problems, algebraic equations, differential equations, statistics and many other classes of problems., title: SciPy, link: https://scipy.org/\""
      ]
     },
     "execution_count": 5,
     "metadata": {},
     "output_type": "execute_result"
    }
   ],
   "source": [
    "tools[1].invoke({\"query\": \"파이썬\", \"search_period\": \"m\"})"
   ]
  },
  {
   "cell_type": "code",
   "execution_count": 6,
   "metadata": {},
   "outputs": [
    {
     "name": "stdout",
     "output_type": "stream",
     "text": [
      "get_current_time name='get_current_time' description='현재 시각을 반환하는 함수.' args_schema=<class 'langchain_core.utils.pydantic.get_current_time'> func=<function get_current_time at 0x0000016E2EC9BA60>\n",
      "get_web_search name='get_web_search' description='웹 검색을 수행하는 함수.\\n\\nArgs:\\n    query (str): 검색어\\n    search_period (str): 검색 기간 (e.g., \"w\" for past week (default), \"m\" for past month, \"y\" for past year, \"d\" for past day)\\n\\nReturns:\\n    str: 검색 결과' args_schema=<class 'langchain_core.utils.pydantic.get_web_search'> func=<function get_web_search at 0x0000016E2EE44FE0>\n"
     ]
    }
   ],
   "source": [
    "for tool in tools:\n",
    "    print(tool.name, tool)"
   ]
  },
  {
   "cell_type": "code",
   "execution_count": 7,
   "metadata": {},
   "outputs": [
    {
     "data": {
      "text/plain": [
       "<langgraph.graph.state.StateGraph at 0x16e2ebda120>"
      ]
     },
     "execution_count": 7,
     "metadata": {},
     "output_type": "execute_result"
    }
   ],
   "source": [
    "model_with_tools = model.bind_tools(tools) # GPT 언어모델에 도구 연결\n",
    "\n",
    "def generate(state: State):\n",
    "    \"\"\"\n",
    "    주어진 상태를 기반으로 챗봇의 응답 메시지를 생성합니다.\n",
    "\n",
    "    매개변수:\n",
    "    state (State): 현재 대화 상태를 나타내는 객체로, 이전 메시지들이 포함되어 있습니다.\n",
    "\n",
    "    반환값:\n",
    "    dict: 모델이 생성한 응답 메시지를 포함하는 딕셔너리. \n",
    "          형식은 {\"messages\": [응답 메시지]}입니다.\n",
    "    \"\"\"\n",
    "    return {\"messages\": model_with_tools.invoke(state[\"messages\"])}\n",
    "\n",
    "graph_builder.add_node(\"generate\", generate)"
   ]
  },
  {
   "cell_type": "code",
   "execution_count": 8,
   "metadata": {},
   "outputs": [
    {
     "data": {
      "text/plain": [
       "<langgraph.graph.state.StateGraph at 0x16e2ebda120>"
      ]
     },
     "execution_count": 8,
     "metadata": {},
     "output_type": "execute_result"
    }
   ],
   "source": [
    "import json\n",
    "from langchain_core.messages import ToolMessage\n",
    "\n",
    "class BasicToolNode:\n",
    "    \"\"\"\n",
    "    도구를 실행하는 노드 클래스입니다. 마지막 AIMessage에서 요청된 도구를 실행합니다.\n",
    "    Attributes:\n",
    "        tools_by_name (dict): 도구 이름을 키로 하고 도구 객체를 값으로 가지는 사전입니다.\n",
    "    Methods:\n",
    "        __init__(tools: list): 도구 객체들의 리스트를 받아서 초기화합니다.\n",
    "        __call__(inputs: dict): 입력 메시지를 받아서 도구를 실행하고 결과 메시지를 반환합니다.\n",
    "    \"\"\"\n",
    "    \"\"\"A node that runs the tools requested in the last AIMessage.\"\"\"\n",
    "\n",
    "    def __init__(self, tools: list) -> None:    # ①\n",
    "        self.tools_by_name = {tool.name: tool for tool in tools}\n",
    "\n",
    "    def __call__(self, inputs: dict):    # ②\n",
    "        if messages := inputs.get(\"messages\", []):\n",
    "            # inputs에 messages가 있으면 messages를 가져오고 없으면 빈 리스트를 가져옵니다.\n",
    "            message = messages[-1]\n",
    "        else:\n",
    "            raise ValueError(\"No message found in input\")\n",
    "        outputs = []\n",
    "        for tool_call in message.tool_calls:    # ③\n",
    "            tool_result = self.tools_by_name[tool_call[\"name\"]].invoke(\n",
    "                tool_call[\"args\"]\n",
    "            )\n",
    "            outputs.append(\n",
    "                ToolMessage(\n",
    "                    content=json.dumps(tool_result),\n",
    "                    name=tool_call[\"name\"],\n",
    "                    tool_call_id=tool_call[\"id\"],\n",
    "                )\n",
    "            )\n",
    "        return {\"messages\": messages + outputs}\n",
    "\n",
    "tool_node = BasicToolNode(tools=tools)\n",
    "graph_builder.add_node(\"tools\", tool_node)"
   ]
  },
  {
   "cell_type": "code",
   "execution_count": 9,
   "metadata": {},
   "outputs": [],
   "source": [
    "def route_tools(state: State):\n",
    "    \"\"\"\n",
    "    마지막 메시지에 도구 호출이 있는 경우 ToolNode로 라우팅하고,\n",
    "    그렇지 않은 경우 끝으로 라우팅하기 위해 conditional_edge에서 사용합니다.\n",
    "    \"\"\"\n",
    "    if isinstance(state, list):\n",
    "        ai_message = state[-1]\n",
    "    elif messages := state.get(\"messages\", []):\n",
    "        ai_message = messages[-1]\n",
    "    else:\n",
    "        raise ValueError(f\"tool_edge 입력 상태에서 메시지를 찾을 수 없습니다: {state}\")\n",
    "    if hasattr(ai_message, \"tool_calls\") and len(ai_message.tool_calls) > 0:\n",
    "        return \"tools\"\n",
    "    return END\n",
    "\n",
    "graph_builder.add_edge(START, \"generate\")\n",
    "\n",
    "graph_builder.add_conditional_edges(\n",
    "    \"generate\",\n",
    "    route_tools,\n",
    "    {\"tools\": \"tools\", END: END},\n",
    ")\n",
    "# 도구가 호출될 때마다 다음 단계를 결정하기 위해 챗봇으로 돌아갑니다.\n",
    "graph_builder.add_edge(\"tools\", \"generate\")\n",
    "graph = graph_builder.compile()\n"
   ]
  },
  {
   "cell_type": "code",
   "execution_count": 10,
   "metadata": {},
   "outputs": [
    {
     "data": {
      "image/png": "[encoded data removed]",
      "text/plain": [
       "<IPython.core.display.Image object>"
      ]
     },
     "metadata": {},
     "output_type": "display_data"
    }
   ],
   "source": [
    "from IPython.display import Image, display\n",
    "\n",
    "try:\n",
    "    display(Image(graph.get_graph().draw_mermaid_png()))\n",
    "except Exception:\n",
    "    pass"
   ]
  },
  {
   "cell_type": "code",
   "execution_count": 11,
   "metadata": {},
   "outputs": [
    {
     "name": "stdout",
     "output_type": "stream",
     "text": [
      "지금 서울의 시간은 2025년 2월 27일 00시 33분입니다."
     ]
    },
    {
     "data": {
      "text/plain": [
       "AIMessageChunk(content='지금 서울의 시간은 2025년 2월 27일 00시 33분입니다.', additional_kwargs={'tool_calls': [{'index': 0, 'id': 'call_IeGsPVRjNm6qD44aAeHk7slv', 'function': {'arguments': '{\"timezone\":\"Asia/Seoul\",\"location\":\"서울\"}', 'name': 'get_current_time'}, 'type': 'function'}]}, response_metadata={'finish_reason': 'tool_callsstop', 'model_name': 'gpt-4o-2024-08-06gpt-4o-2024-08-06', 'system_fingerprint': 'fp_eb9dce56a8fp_eb9dce56a8'}, id='run-69e7057c-d726-4523-83ec-89665b43b91a', tool_calls=[{'name': 'get_current_time', 'args': {'timezone': 'Asia/Seoul', 'location': '서울'}, 'id': 'call_IeGsPVRjNm6qD44aAeHk7slv', 'type': 'tool_call'}], tool_call_chunks=[{'name': 'get_current_time', 'args': '{\"timezone\":\"Asia/Seoul\",\"location\":\"서울\"}', 'id': 'call_IeGsPVRjNm6qD44aAeHk7slv', 'index': 0, 'type': 'tool_call_chunk'}])"
      ]
     },
     "execution_count": 11,
     "metadata": {},
     "output_type": "execute_result"
    }
   ],
   "source": [
    "from langchain_core.messages import AIMessageChunk, HumanMessage\n",
    "\n",
    "inputs = [HumanMessage(content=\"지금 서울 몇시야?\")]\n",
    "\n",
    "gathered = None\n",
    "\n",
    "for msg, metadata in graph.stream({\"messages\": inputs}, stream_mode=\"messages\"):\n",
    "    if isinstance(msg, AIMessageChunk):\n",
    "        print(msg.content, end='')\n",
    "\n",
    "        if gathered is None:\n",
    "            gathered = msg\n",
    "        else:\n",
    "            gathered = gathered + msg\n",
    "\n",
    "gathered"
   ]
  },
  {
   "cell_type": "code",
   "execution_count": 12,
   "metadata": {},
   "outputs": [
    {
     "name": "stdout",
     "output_type": "stream",
     "text": [
      "\n",
      "-------- WEB SEARCH --------\n",
      "서울월드컵 경기장 잔디 문제\n",
      "m\n",
      "1. snippet: 앞서 서울월드컵경기장 잔디 상태는 지난해 9월 5일 열린 '2026 북중미 월드컵 아시아 지역 3차 예선'에서 팔레스타인과 경기를 치른 후 논란이 된 바 있다. 당시 대표팀 주장 손흥민 선수는 경기를 마친 뒤 취재진을 만나 서울월드컵경기장의 잔디에 문제가 있다고 ..., title: 월드컵경기장 '서울스프링페스타'…'논두렁 잔디' 악몽 막아라 - 사회 | 기사 - 더팩트, link: https://news.tf.co.kr/read/life/2179251.htm\n",
      "2. snippet: 서울 상암월드컵경기장에서 열릴 것으로 보였던 내달 a매치 2연전을 고양과 수원 경기장에서 치르기로 최근 결정한 것도 잔디 영향이 컸다. 올 시즌엔 평소보다 개막 일정이 당겨지면서 열악한 잔디 상태가 부각되기도 했다., title: 꽁꽁 언 K잔디… 경기력도 얼어붙었다-국민일보, link: https://www.kmib.co.kr/article/view.asp?arcid=1740471547\n",
      "3. snippet: 앞서 서울월드컵경기장 잔디 상태는 지난해 9월 5일 열린 '2026 북중미 월드컵 아시아 지역 3차 예선'에서 팔레스타인과 경기를 치른 후 논란이 된 바 있다. 당시 대표팀 주장 손흥민 선수는 경기를 마친 뒤 취재진을 만나 서울월드컵경기장의 잔디에 문제가 있다고 ..., title: 월드컵경기장 '서울스프링페스타'…'논두렁 잔디' 악몽 막아라, link: https://v.daum.net/v/20250215000106943\n",
      "4. snippet: 한눈에 보는 오늘 : 사회 - 뉴스 : 개막식 그라운드석 판매 제외…\"잔디 침범 최소화\"사진은 지난해 9월 5일 서울 마포구 서울월드컵경기장에서 열린 대한민국과 팔레스타인의 2026 fifa 북중미 월드컵 3차 예선전에서 손흥민이 아쉬워하고 있다. /더팩트 db[더팩트ㅣ정소양 기자] 잔디, title: 월드컵경기장 '서울스프링페스타'…'논두렁 잔디' 악몽 막아라 : 네이트 뉴스, link: https://news.nate.com/view/20250215n00057\n",
      "최근 서울월드컵 경기장의 잔디 상태가 심각한 문제로 대두되고 있습니다. 특히, 2026 북중미 월드컵 아시아 지역 예선 경기에서 잔디 상태가 좋지 않아 선수들이 경기 중 부상을 입을 위험이 있었다는 비판이 제기되었습니다. 이러한 문제는 경기력 저하뿐만 아니라 선수들의 안전에도 큰 영향을 미치고 있어 많은 이들의 관심을 끌고 있습니다.\n",
      "\n",
      "### 선정 주제: 서울월드컵 경기장 잔디 문제의 원인과 해결 방안\n",
      "이 주제를 선정한 이유는 서울월드컵 경기장이 국제적인 경기와 국내 주요 경기가 열리는 중요한 장소임에도 불구하고, 잔디 관리가 제대로 이루어지지 않아 경기력과 선수 안전에 영향을 미치고 있기 때문입니다. 이 문제는 단순히 경기장 관리의 문제를 넘어, 한국 축구의 국제적 이미지에도 영향을 미칠 수 있는 중요한 사안입니다.\n",
      "\n",
      "### 목차\n",
      "1. 서울월드컵 경기장 잔디 문제의 현황\n",
      "2. 잔디 문제의 원인 분석\n",
      "3. 잔디 문제로 인한 영향\n",
      "4. 해외 경기장의 잔디 관리 사례\n",
      "5. 서울월드컵 경기장 잔디 문제 해결 방안\n",
      "\n",
      "### 추가로 검색할 내용 리스트\n",
      "1. 서울월드컵 경기장 잔디 문제의 구체적인 사례와 현황\n",
      "2. 잔디 문제의 원인에 대한 전문가 의견 및 분석\n",
      "3. 잔디 문제로 인한 경기력 저하 및 선수 부상 사례\n",
      "4. 해외 주요 경기장의 잔디 관리 방법 및 사례\n",
      "5. 서울월드컵 경기장 잔디 문제 해결을 위한 현재 진행 중인 노력 및 계획\n",
      "\n",
      "이제 추가 검색을 통해 필요한 정보를 수집하겠습니다.\n",
      "-------- WEB SEARCH --------\n",
      "서울월드컵 경기장 잔디 문제 사례\n",
      "m\n",
      "1. snippet: 앞서 서울월드컵경기장 잔디 상태는 지난해 9월 5일 열린 '2026 북중미 월드컵 아시아 지역 3차 예선'에서 팔레스타인과 경기를 치른 후 논란이 된 바 있다. 당시 대표팀 주장 손흥민 선수는 경기를 마친 뒤 취재진을 만나 서울월드컵경기장의 잔디에 문제가 있다고 ..., title: 월드컵경기장 '서울스프링페스타'…'논두렁 잔디' 악몽 막아라 - 사회 | 기사 - 더팩트, link: https://news.tf.co.kr/read/life/2179251.htm\n",
      "2. snippet: 서울 상암월드컵경기장에서 열릴 것으로 보였던 내달 a매치 2연전을 고양과 수원 경기장에서 치르기로 최근 결정한 것도 잔디 영향이 컸다. 올 시즌엔 평소보다 개막 일정이 당겨지면서 열악한 잔디 상태가 부각되기도 했다., title: 꽁꽁 언 K잔디… 경기력도 얼어붙었다-국민일보, link: https://www.kmib.co.kr/article/view.asp?arcid=1740471547\n",
      "3. snippet: 앞서 서울월드컵경기장 잔디 상태는 지난해 9월 5일 열린 '2026 북중미 월드컵 아시아 지역 3차 예선'에서 팔레스타인과 경기를 치른 후 논란이 된 바 있다. 당시 대표팀 주장 손흥민 선수는 경기를 마친 뒤 취재진을 만나 서울월드컵경기장의 잔디에 문제가 있다고 ..., title: 월드컵경기장 '서울스프링페스타'…'논두렁 잔디' 악몽 막아라, link: https://v.daum.net/v/20250215000106943\n",
      "4. snippet: 한눈에 보는 오늘 : 사회 - 뉴스 : 개막식 그라운드석 판매 제외…\"잔디 침범 최소화\"사진은 지난해 9월 5일 서울 마포구 서울월드컵경기장에서 열린 대한민국과 팔레스타인의 2026 fifa 북중미 월드컵 3차 예선전에서 손흥민이 아쉬워하고 있다. /더팩트 db[더팩트ㅣ정소양 기자] 잔디, title: 월드컵경기장 '서울스프링페스타'…'논두렁 잔디' 악몽 막아라 : 네이트 뉴스, link: https://news.nate.com/view/20250215n00057\n",
      "\n",
      "-------- WEB SEARCH --------\n",
      "서울월드컵 경기장 잔디 문제 원인 전문가 의견\n",
      "m\n",
      "1. snippet: 한눈에 보는 오늘 : 사회 - 뉴스 : 개막식 그라운드석 판매 제외…\"잔디 침범 최소화\"사진은 지난해 9월 5일 서울 마포구 서울월드컵경기장에서 열린 대한민국과 팔레스타인의 2026 fifa 북중미 월드컵 3차 예선전에서 손흥민이 아쉬워하고 있다. /더팩트 db[더팩트ㅣ정소양 기자] 잔디, title: 월드컵경기장 '서울스프링페스타'…'논두렁 잔디' 악몽 막아라 : 네이트 뉴스, link: https://news.nate.com/view/20250215n00057\n",
      "2. snippet: 앞서 서울월드컵경기장 잔디 상태는 지난해 9월 5일 열린 '2026 북중미 월드컵 아시아 지역 3차 예선'에서 팔레스타인과 경기를 치른 후 논란이 된 바 있다. 당시 대표팀 주장 손흥민 선수는 경기를 마친 뒤 취재진을 만나 서울월드컵경기장의 잔디에 문제가 있다고 ..., title: 월드컵경기장 '서울스프링페스타'…'논두렁 잔디' 악몽 막아라 - 사회 | 기사 - 더팩트, link: https://news.tf.co.kr/read/life/2179251.htm\n",
      "3. snippet: 앞서 서울월드컵경기장 잔디 상태는 지난해 9월 5일 열린 '2026 북중미 월드컵 아시아 지역 3차 예선'에서 팔레스타인과 경기를 치른 후 논란이 된 바 있다. 당시 대표팀 주장 손흥민 선수는 경기를 마친 뒤 취재진을 만나 서울월드컵경기장의 잔디에 문제가 있다고 ..., title: 월드컵경기장 '서울스프링페스타'…'논두렁 잔디' 악몽 막아라 : Zum 뉴스, link: https://news.zum.com/articles/96320917\n",
      "4. snippet: 한국의 기후 특성상 잔디 생육이 쉽지 않은 게 사실이지만, 올해는 날이 풀리기 전인 겨울로 개막을 앞당겨 문 ... 전북 현대의 전진우가 23일 전주월드컵경기장에서 열린 2025시즌 k리그1 2라운드 광주fc와 경기 도중 팔꿈치 부상으로 교체돼 경기장을 빠져나가고 ..., title: 꽁꽁 언 잔디 위, 선수들도 혹사… K잔디, 이게 최선일까-국민일보, link: https://www.kmib.co.kr/article/view.asp?arcid=0027803362\n",
      "\n",
      "-------- WEB SEARCH --------\n",
      "서울월드컵 경기장 잔디 문제로 인한 경기력 저하\n",
      "m\n",
      "1. snippet: 앞서 서울월드컵경기장 잔디 상태는 지난해 9월 5일 열린 '2026 북중미 월드컵 아시아 지역 3차 예선'에서 팔레스타인과 경기를 치른 후 논란이 된 바 있다. 당시 대표팀 주장 손흥민 선수는 경기를 마친 뒤 취재진을 만나 서울월드컵경기장의 잔디에 문제가 있다고 ..., title: 월드컵경기장 '서울스프링페스타'…'논두렁 잔디' 악몽 막아라 - 사회 | 기사 - 더팩트, link: https://news.tf.co.kr/read/life/2179251.htm\n",
      "2. snippet: 한국 축구계가 잔디 문제로 골머리를 앓고 있다. 한국의 기후 특성상 잔디 생육이 쉽지 않은 게 사실이지만, 올해는 날이 풀리기 전인 겨울로 개막을 앞당겨 문 ... 서울 상암월드컵경기장에서 열릴 것으로 보였던 내달 a매치 2연전을 고양과 수원 경기장에서 ..., title: 꽁꽁 언 K잔디… 경기력도 얼어붙었다-국민일보, link: https://www.kmib.co.kr/article/view.asp?arcid=1740471547\n",
      "3. snippet: 한눈에 보는 오늘 : 사회 - 뉴스 : 개막식 그라운드석 판매 제외…\"잔디 침범 최소화\"사진은 지난해 9월 5일 서울 마포구 서울월드컵경기장에서 열린 대한민국과 팔레스타인의 2026 fifa 북중미 월드컵 3차 예선전에서 손흥민이 아쉬워하고 있다. /더팩트 db[더팩트ㅣ정소양 기자] 잔디, title: 월드컵경기장 '서울스프링페스타'…'논두렁 잔디' 악몽 막아라 : 네이트 뉴스, link: https://news.nate.com/view/20250215n00057\n",
      "4. snippet: 개막식 그라운드석 판매 제외…`잔디 침범 최소화` [더팩트ㅣ정소양 기자] 잔디 문제로 지난해 곤욕을 겪었던 서울월드컵경기장에서 `서울스프링페스타 2025 ... 월드컵경기장 '서울스프링페스타'…'논두렁 잔디' 악몽 막아라, title: 월드컵경기장 '서울스프링페스타'…'논두렁 잔디' 악몽 막아라 : Zum 뉴스, link: https://news.zum.com/articles/96320917\n",
      "\n",
      "-------- WEB SEARCH --------\n",
      "해외 경기장 잔디 관리 사례\n",
      "m\n",
      "1. snippet: 심지어 자체적으로 축구경기장 잔디 관리 전문가를 채용하고 있다. 잔디 문제가 어느 정도로 심각한지 알 수 있는 대목이다. ... [해외야구 화제의 뉴스] '레비 회장, 왜 날 버렸어요' 120억에 쫓겨난 '17골' 미친 재능, 이제는 친정 향해 복수의 칼날 겨눈다 [해외 ..., title: 해외 경험자는 한다, K리그 잔디 걱정을…올해엔 부정적 이슈 거둘까[Ss포커스] : 네이트 스포츠, link: https://sports.news.nate.com/view/20250204n02682\n",
      "2. snippet: 축구는 세계에서 가장 사랑받는 스포츠 가운데 하나로, 축구장의 종류와 잔디 관리는 선수들의 경기력에 큰 영향을 미쳐요. 다양한 종류의 축구장과 그 관리 방법에 대한 깊은 이해는 성공적인 경기를 위한 필수적인 요소랍니다. 축구장 종류 축구장은 크게 두 가지 유형으로 나눌 수, title: 축구장 종류와 잔디 관리 노하우: 승리의 기반, link: https://kick-off.co.kr/141\n",
      "3. snippet: 여론의 질타가 쏟아졌다. 결국 공단은 2025년 서울월드컵경기장 잔디 교체 예산으로 15억 5000만원을 서울시에 요청했다. 월별로 1억원이 넘는 액수. 서울시 한 시의원은 시립체육시설 내 잔디 등 시설 관리·운영 예산 확보에 필요한 '조례안'을 발의하기도 했다., title: [장석원 교수의 우리 주변 잔디 이야기 18] 대한축구협회 산하 잔디연구소가 시급한 이유 - 골프산업신문, link: https://www.golfin.co.kr/news/articleView.html?idxno=6999\n",
      "4. snippet: 지앤지 공법?골프장 잔디 초종 교체에 합리적이고 품질 좋은 코스 잔디를 조성할 수 있는 신공법이 주목받고 있다.골프장 코스 시공 및 관리 전문 지앤지그래스(주)(대표이사 조세도)는 한지형 잔디를 한국잔디로 초종 교체 시 최적 비용 및 결과를 낼 수 있는 '지앤지 공법'을 적용해 성공적인 ..., title: 한지형→난지형 잔디교체 가장 빠르고 효율적인 '지앤지 공법' 화제, link: https://www.golfin.co.kr/news/articleView.html?idxno=7004\n",
      "\n",
      "-------- WEB SEARCH --------\n",
      "서울월드컵 경기장 잔디 문제 해결 방안\n",
      "m\n",
      "1. snippet: 앞서 서울월드컵경기장 잔디 상태는 지난해 9월 5일 열린 '2026 북중미 월드컵 아시아 지역 3차 예선'에서 팔레스타인과 경기를 치른 후 논란이 된 바 있다. 당시 대표팀 주장 손흥민 선수는 경기를 마친 뒤 취재진을 만나 서울월드컵경기장의 잔디에 문제가 있다고 ..., title: 월드컵경기장 '서울스프링페스타'…'논두렁 잔디' 악몽 막아라 - 사회 | 기사 - 더팩트, link: https://news.tf.co.kr/read/life/2179251.htm\n",
      "2. snippet: 앞서 서울월드컵경기장 잔디 상태는 지난해 9월 5일 열린 '2026 북중미 월드컵 아시아 지역 3차 예선'에서 팔레스타인과 경기를 치른 후 논란이 된 바 있다. 당시 대표팀 주장 손흥민 선수는 경기를 마친 뒤 취재진을 만나 서울월드컵경기장의 잔디에 문제가 있다고 ..., title: 월드컵경기장 '서울스프링페스타'…'논두렁 잔디' 악몽 막아라 : Zum 뉴스, link: https://news.zum.com/articles/96320917\n",
      "3. snippet: 한눈에 보는 오늘 : 사회 - 뉴스 : 개막식 그라운드석 판매 제외…\"잔디 침범 최소화\"사진은 지난해 9월 5일 서울 마포구 서울월드컵경기장에서 열린 대한민국과 팔레스타인의 2026 fifa 북중미 월드컵 3차 예선전에서 손흥민이 아쉬워하고 있다. /더팩트 db[더팩트ㅣ정소양 기자] 잔디, title: 월드컵경기장 '서울스프링페스타'…'논두렁 잔디' 악몽 막아라 : 네이트 뉴스, link: https://news.nate.com/view/20250215n00057\n",
      "4. snippet: 한국의 기후 특성상 잔디 생육이 쉽지 않은 게 사실이지만, 올해는 날이 풀리기 전인 겨울로 개막을 앞당겨 문 ... 전북 현대의 전진우가 23일 전주월드컵경기장에서 열린 2025시즌 k리그1 2라운드 광주fc와 경기 도중 팔꿈치 부상으로 교체돼 경기장을 빠져나가고 ..., title: 꽁꽁 언 잔디 위, 선수들도 혹사… K잔디, 이게 최선일까-국민일보, link: https://www.kmib.co.kr/article/view.asp?arcid=0027803362\n",
      "### 목차에 대한 정보 수집 결과\n",
      "\n",
      "1. **서울월드컵 경기장 잔디 문제의 현황**\n",
      "   - 최근 서울월드컵 경기장에서 열린 2026 북중미 월드컵 아시아 지역 예선 경기에서 잔디 상태가 좋지 않아 논란이 되었습니다. 선수들이 경기 중 부상을 입을 위험이 있었고, 이는 경기력 저하로 이어졌습니다.\n",
      "\n",
      "2. **잔디 문제의 원인 분석**\n",
      "   - 한국의 기후 특성상 잔디 생육이 쉽지 않다는 점이 지적되고 있습니다. 특히, 겨울철 개막을 앞두고 잔디 상태가 악화되는 경우가 많습니다.\n",
      "\n",
      "3. **잔디 문제로 인한 영향**\n",
      "   - 잔디 상태가 좋지 않아 선수들이 부상을 입을 위험이 증가하고, 이는 경기력 저하로 이어집니다. 또한, 국제 경기에서 한국 축구의 이미지에도 부정적인 영향을 미칠 수 있습니다.\n",
      "\n",
      "4. **해외 경기장의 잔디 관리 사례**\n",
      "   - 해외에서는 전문적인 잔디 관리 전문가를 채용하여 잔디 상태를 유지하고 있습니다. 다양한 종류의 잔디와 관리 방법을 통해 경기력 향상에 기여하고 있습니다.\n",
      "\n",
      "5. **서울월드컵 경기장 잔디 문제 해결 방안**\n",
      "   - 서울시는 2025년까지 잔디 교체 예산을 요청하고 있으며, 새로운 관리 방법을 도입하여 잔디 상태를 개선하려는 노력을 기울이고 있습니다.\n",
      "\n",
      "이제 수집한 정보를 바탕으로 최종 기사를 작성하겠습니다.\n",
      "**제목:** 서울월드컵 경기장 잔디 문제, 한국 축구의 발목을 잡다\n",
      "\n",
      "**부제:** 잔디 상태 악화로 인한 경기력 저하와 선수 안전 위협, 해결책은 무엇인가?\n",
      "\n",
      "**리드문:** 최근 서울월드컵 경기장에서 열린 2026 북중미 월드컵 아시아 지역 예선 경기에서 잔디 상태가 심각한 문제로 떠올랐다. 선수들의 부상 위험과 경기력 저하로 이어진 잔디 문제는 한국 축구의 국제적 이미지에도 부정적인 영향을 미치고 있다. 이에 대한 원인 분석과 해결 방안을 모색해본다.\n",
      "\n",
      "**본문:**\n",
      "\n",
      "서울월드컵 경기장은 한국 축구의 상징적인 장소로, 국제 경기와 국내 주요 경기가 열리는 중요한 무대이다. 그러나 최근 이곳의 잔디 상태가 심각한 문제로 대두되면서 많은 이들의 우려를 사고 있다. 지난 9월 5일, 2026 북중미 월드컵 아시아 지역 예선 경기에서 잔디 상태가 좋지 않아 선수들이 경기 중 부상을 입을 위험이 있었다는 비판이 제기되었다.\n",
      "\n",
      "잔디 문제의 원인은 한국의 기후 특성상 잔디 생육이 쉽지 않다는 점이 지적되고 있다. 특히, 겨울철 개막을 앞두고 잔디 상태가 악화되는 경우가 많아, 이는 경기력 저하로 이어질 수 있다. 전문가들은 잔디 관리의 중요성을 강조하며, 전문적인 관리가 필요하다고 입을 모은다.\n",
      "\n",
      "잔디 상태가 좋지 않으면 선수들이 부상을 입을 위험이 증가하고, 이는 경기력 저하로 이어진다. 또한, 국제 경기에서 한국 축구의 이미지에도 부정적인 영향을 미칠 수 있다. 이러한 문제는 단순히 경기장 관리의 문제를 넘어, 한국 축구의 국제적 이미지에도 영향을 미칠 수 있는 중요한 사안이다.\n",
      "\n",
      "해외에서는 전문적인 잔디 관리 전문가를 채용하여 잔디 상태를 유지하고 있다. 다양한 종류의 잔디와 관리 방법을 통해 경기력 향상에 기여하고 있으며, 이는 한국에서도 참고할 만한 사례이다.\n",
      "\n",
      "서울시는 2025년까지 잔디 교체 예산을 요청하고 있으며, 새로운 관리 방법을 도입하여 잔디 상태를 개선하려는 노력을 기울이고 있다. 이러한 노력들이 결실을 맺어, 서울월드컵 경기장이 다시금 한국 축구의 자랑스러운 무대로 자리매김할 수 있기를 기대해본다."
     ]
    }
   ],
   "source": [
    "from langchain_core.messages import AIMessageChunk, SystemMessage\n",
    "\n",
    "about = \"서울월드컵 경기장 잔디 문제\"\n",
    "\n",
    "inputs = [SystemMessage(content=f\"\"\"\n",
    "너는 신문기자이다. \n",
    "최근 {about}에 대해 비판하는 심층 분석 기사를 쓰려고 한다.  \n",
    "\n",
    "- 최근 어떤 이슈가 있는지 검색하고, 사람들이 제일 관심있어 할만한 주제를 선정하고, 왜 선정했는지 말해줘. \n",
    "- 그 내용으로 원고를 작성하기 위한 목차를 만들고, 목차 내용을 채우기 위해 추가로 검색할 내용을 리스트로 정리해봐. \n",
    "- 검색할 리스트를 토대로 재검색을 한다. \n",
    "- 목차에 있는 내용을 작성하기 위해 더 검색이 필요한 정보가 있는지 확인하고, 있다면 추가로 검색해라.\n",
    "- 검색된 결과에 원하는 정보를 찾지 못했다면 다른 검색어로 재검색해도 좋다. \n",
    "\n",
    "더 이상 검색할 내용이 없다면, 조선일보 신문 기사 형식으로 최종 기사를 작성하라.\n",
    "제목, 부제, 리드문, 본문 의 구성으로 작성하라. 본문 내용은 심층 분석 기사에 맞게 구체적이고 깊이 있게 작성해야 한다. \n",
    "    \n",
    "\"\"\")]\n",
    "\n",
    "for msg, metadata in graph.stream({\"messages\": inputs}, stream_mode=\"messages\"):\n",
    "    if isinstance(msg, AIMessageChunk):\n",
    "        print(msg.content, end='')\n"
   ]
  }
 ],
 "metadata": {
  "kernelspec": {
   "display_name": "venv",
   "language": "python",
   "name": "python3"
  },
  "language_info": {
   "codemirror_mode": {
    "name": "ipython",
    "version": 3
   },
   "file_extension": ".py",
   "mimetype": "text/x-python",
   "name": "python",
   "nbconvert_exporter": "python",
   "pygments_lexer": "ipython3",
   "version": "3.12.9"
  }
 },
 "nbformat": 4,
 "nbformat_minor": 2
}
