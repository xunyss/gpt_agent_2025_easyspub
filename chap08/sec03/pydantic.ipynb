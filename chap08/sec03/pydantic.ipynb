{
 "cells": [
  {
   "cell_type": "code",
   "metadata": {
    "ExecuteTime": {
     "end_time": "2025-08-12T16:01:04.681318Z",
     "start_time": "2025-08-12T16:01:03.365225Z"
    }
   },
   "source": [
    "import os\n",
    "\n",
    "from dotenv import load_dotenv\n",
    "from langchain_core.messages import HumanMessage\n",
    "from langchain_openai import ChatOpenAI\n",
    "\n",
    "load_dotenv()\n",
    "\n",
    "# llm = ChatOpenAI(model=\"gpt-4o-mini\")\n",
    "llm = ChatOpenAI(model=os.getenv(\"DEFAULT_MODEL\"))\n",
    "\n",
    "llm.invoke([HumanMessage(\"잘 지냈어?\")])"
   ],
   "outputs": [
    {
     "data": {
      "text/plain": [
       "AIMessage(content='저는 다양한 질문에 답하고 정보를 제공할 수 있는 언어 모델입니다. 제가 하는 일은 매일 매일 개선하고 있지만, 감정이나 감각을 느끼는 능력은 없다는 사실을 알고 계셨나요?', additional_kwargs={'refusal': None}, response_metadata={'token_usage': {'completion_tokens': 43, 'prompt_tokens': 15, 'total_tokens': 58, 'completion_tokens_details': None, 'prompt_tokens_details': None, 'queue_time': 0.346077722, 'prompt_time': 0.002881445, 'completion_time': 0.109240112, 'total_time': 0.112121557}, 'model_name': 'meta-llama/llama-4-scout-17b-16e-instruct', 'system_fingerprint': 'fp_42ae451038', 'id': 'chatcmpl-dcbeb10b-eb41-487b-acd3-c91cf16d03f2', 'service_tier': 'on_demand', 'finish_reason': 'stop', 'logprobs': None}, id='run--402faf6c-b35a-432f-9180-2b79127c9366-0', usage_metadata={'input_tokens': 15, 'output_tokens': 43, 'total_tokens': 58, 'input_token_details': {}, 'output_token_details': {}})"
      ]
     },
     "execution_count": 1,
     "metadata": {},
     "output_type": "execute_result"
    }
   ],
   "execution_count": 1
  },
  {
   "cell_type": "code",
   "metadata": {
    "ExecuteTime": {
     "end_time": "2025-08-12T16:01:06.343231Z",
     "start_time": "2025-08-12T16:01:06.331479Z"
    }
   },
   "source": [
    "from langchain_core.tools import tool\n",
    "from datetime import datetime\n",
    "import pytz\n",
    "\n",
    "@tool # @tool 데코레이터를 사용하여 함수를 도구로 등록\n",
    "def get_current_time(timezone: str, location: str) -> str:\n",
    "    \"\"\" 현재 시각을 반환하는 함수\n",
    "\n",
    "    Args:\n",
    "        timezone (str): 타임존 (예: 'Asia/Seoul') 실제 존재하는 타임존이어야 함\n",
    "        location (str): 지역명. 타임존이 모든 지명에 대응되지 않기 때문에 이후 llm 답변 생성에 사용됨\n",
    "    \"\"\"\n",
    "    tz = pytz.timezone(timezone)\n",
    "    now = datetime.now(tz).strftime(\"%Y-%m-%d %H:%M:%S\")\n",
    "    location_and_local_time = f'{timezone} ({location}) 현재시각 {now} ' # 타임존, 지역명, 현재시각을 문자열로 반환\n",
    "    print(location_and_local_time)\n",
    "    return location_and_local_time"
   ],
   "outputs": [],
   "execution_count": 2
  },
  {
   "cell_type": "code",
   "metadata": {
    "ExecuteTime": {
     "end_time": "2025-08-12T16:01:08.278647Z",
     "start_time": "2025-08-12T16:01:08.230645Z"
    }
   },
   "source": [
    "# 도구를 tools 리스트에 추가하고, tool_dict에도 추가\n",
    "tools = [get_current_time,]\n",
    "tool_dict = {\"get_current_time\": get_current_time,}\n",
    "\n",
    "# 도구를 모델에 바인딩: 모델에 도구를 바인딩하면, 도구를 사용하여 llm 답변을 생성할 수 있음\n",
    "llm_with_tools = llm.bind_tools(tools)"
   ],
   "outputs": [],
   "execution_count": 3
  },
  {
   "cell_type": "code",
   "metadata": {
    "ExecuteTime": {
     "end_time": "2025-08-12T16:01:09.790562Z",
     "start_time": "2025-08-12T16:01:09.267657Z"
    }
   },
   "source": [
    "from langchain_core.messages import SystemMessage\n",
    "\n",
    "# (4) 사용자의 질문과 tools 사용하여 llm 답변 생성\n",
    "messages = [\n",
    "    SystemMessage(\"\"\"너는 사용자의 질문에 답변을 하기 위해 tools를 사용할 수 있다.\n",
    "    주식 가격 정보를 요청받을 때는 반드시 제공된 get_yf_stock_history 함수를 사용해야 한다.\n",
    "    직접 데이터를 생성하지 말고, 항상 제공된 도구를 통해 데이터를 조회하라.\"\"\"),\n",
    "    HumanMessage(\"부산은 지금 몇시야?\"),\n",
    "]\n",
    "\n",
    "# (5) llm_with_tools를 사용하여 사용자의 질문에 대한 llm 답변 생성\n",
    "response = llm_with_tools.invoke(messages)\n",
    "messages.append(response)\n",
    "\n",
    "# (6) 생성된 llm 답변 출력\n",
    "print(messages)"
   ],
   "outputs": [
    {
     "name": "stdout",
     "output_type": "stream",
     "text": [
      "[SystemMessage(content='너는 사용자의 질문에 답변을 하기 위해 tools를 사용할 수 있다.\\n    주식 가격 정보를 요청받을 때는 반드시 제공된 get_yf_stock_history 함수를 사용해야 한다.\\n    직접 데이터를 생성하지 말고, 항상 제공된 도구를 통해 데이터를 조회하라.', additional_kwargs={}, response_metadata={}), HumanMessage(content='부산은 지금 몇시야?', additional_kwargs={}, response_metadata={}), AIMessage(content='', additional_kwargs={'tool_calls': [{'id': 'w1ae2xk3q', 'function': {'arguments': '{\"location\":\"부산\",\"timezone\":\"Asia/Seoul\"}', 'name': 'get_current_time'}, 'type': 'function'}], 'refusal': None}, response_metadata={'token_usage': {'completion_tokens': 40, 'prompt_tokens': 793, 'total_tokens': 833, 'completion_tokens_details': None, 'prompt_tokens_details': None, 'queue_time': 0.232249716, 'prompt_time': 0.032127791, 'completion_time': 0.091374234, 'total_time': 0.123502025}, 'model_name': 'meta-llama/llama-4-scout-17b-16e-instruct', 'system_fingerprint': 'fp_37da608fc1', 'id': 'chatcmpl-425f7062-ca5a-4b4f-bdcc-2b290915fe5e', 'service_tier': 'on_demand', 'finish_reason': 'tool_calls', 'logprobs': None}, id='run--4912dadf-a014-4f10-9305-16dd09febcb0-0', tool_calls=[{'name': 'get_current_time', 'args': {'location': '부산', 'timezone': 'Asia/Seoul'}, 'id': 'w1ae2xk3q', 'type': 'tool_call'}], usage_metadata={'input_tokens': 793, 'output_tokens': 40, 'total_tokens': 833, 'input_token_details': {}, 'output_token_details': {}})]\n"
     ]
    }
   ],
   "execution_count": 4
  },
  {
   "metadata": {},
   "cell_type": "markdown",
   "source": [
    "##### request, response body\n",
    "```text\n",
    "REQUEST >> https://api.fireworks.ai/inference/v1/chat/completions\n",
    "{\n",
    "  \"messages\": [\n",
    "    {\n",
    "      \"content\": \"너는 사용자의 질문에 답변을 하기 위해 tools를 사용할 수 있다.\",\n",
    "      \"role\": \"system\"\n",
    "    },\n",
    "    {\n",
    "      \"content\": \"부산은 지금 몇시야?\",\n",
    "      \"role\": \"user\"\n",
    "    }\n",
    "  ],\n",
    "  \"model\": \"accounts/fireworks/models/llama4-maverick-instruct-basic\",\n",
    "  \"stream\": false,\n",
    "  \"tools\": [\n",
    "    {\n",
    "      \"type\": \"function\",\n",
    "      \"function\": {\n",
    "        \"name\": \"get_current_time\",\n",
    "        \"description\": \"현재 시각을 반환하는 함수\\n\\n   Args:\\n       timezone (str): 타임존 (예: \\u0027Asia/Seoul\\u0027) 실제 존재하는 타임존이어야 함\\n       location (str): 지역명. 타임존이 모든 지명에 대응되지 않기 때문에 이후 llm 답변 생성에 사용됨\",\n",
    "        \"parameters\": {\n",
    "          \"properties\": {\n",
    "            \"timezone\": {\n",
    "              \"type\": \"string\"\n",
    "            },\n",
    "            \"location\": {\n",
    "              \"type\": \"string\"\n",
    "            }\n",
    "          },\n",
    "          \"required\": [\n",
    "            \"timezone\",\n",
    "            \"location\"\n",
    "          ],\n",
    "          \"type\": \"object\"\n",
    "        }\n",
    "      }\n",
    "    }\n",
    "  ]\n",
    "}\n",
    "RESPONSE >> 200 OK\n",
    "{\n",
    "  \"id\": \"17c3eded-93e2-4cd7-b4d4-31c172097814\",\n",
    "  \"object\": \"chat.completion\",\n",
    "  \"created\": 1754892171,\n",
    "  \"model\": \"accounts/fireworks/models/llama4-maverick-instruct-basic\",\n",
    "  \"choices\": [\n",
    "    {\n",
    "      \"index\": 0,\n",
    "      \"message\": {\n",
    "        \"role\": \"assistant\",\n",
    "        \"tool_calls\": [\n",
    "          {\n",
    "            \"index\": 0,\n",
    "            \"id\": \"call_eRp4wDrn1AR2f7UflqeUZ8X4\",\n",
    "            \"type\": \"function\",\n",
    "            \"function\": {\n",
    "              \"name\": \"get_current_time\",\n",
    "              \"arguments\": \"{\\\"timezone\\\": \\\"Asia/Seoul\\\", \\\"location\\\": \\\"Busan\\\"}\"\n",
    "            }\n",
    "          }\n",
    "        ]\n",
    "      },\n",
    "      \"finish_reason\": \"tool_calls\"\n",
    "    }\n",
    "  ],\n",
    "  \"usage\": {\n",
    "    \"prompt_tokens\": 241,\n",
    "    \"total_tokens\": 258,\n",
    "    \"completion_tokens\": 17\n",
    "  }\n",
    "}```"
   ]
  },
  {
   "cell_type": "code",
   "metadata": {
    "ExecuteTime": {
     "end_time": "2025-08-12T16:01:14.099628Z",
     "start_time": "2025-08-12T16:01:14.071097Z"
    }
   },
   "source": [
    "for tool_call in response.tool_calls:\n",
    "    selected_tool = tool_dict[tool_call[\"name\"]] # (7) tool_dict를 사용하여 도구 함수를 선택\n",
    "    print(tool_call[\"args\"]) # (8) 도구 호출 시 전달된 인자 출력\n",
    "    tool_msg = selected_tool.invoke(tool_call) # (9) 도구 함수를 호출하여 결과를 반환\n",
    "    messages.append(tool_msg)\n",
    "\n",
    "messages"
   ],
   "outputs": [
    {
     "name": "stdout",
     "output_type": "stream",
     "text": [
      "{'location': '부산', 'timezone': 'Asia/Seoul'}\n",
      "Asia/Seoul (부산) 현재시각 2025-08-13 01:01:14 \n"
     ]
    },
    {
     "data": {
      "text/plain": [
       "[SystemMessage(content='너는 사용자의 질문에 답변을 하기 위해 tools를 사용할 수 있다.\\n    주식 가격 정보를 요청받을 때는 반드시 제공된 get_yf_stock_history 함수를 사용해야 한다.\\n    직접 데이터를 생성하지 말고, 항상 제공된 도구를 통해 데이터를 조회하라.', additional_kwargs={}, response_metadata={}),\n",
       " HumanMessage(content='부산은 지금 몇시야?', additional_kwargs={}, response_metadata={}),\n",
       " AIMessage(content='', additional_kwargs={'tool_calls': [{'id': 'w1ae2xk3q', 'function': {'arguments': '{\"location\":\"부산\",\"timezone\":\"Asia/Seoul\"}', 'name': 'get_current_time'}, 'type': 'function'}], 'refusal': None}, response_metadata={'token_usage': {'completion_tokens': 40, 'prompt_tokens': 793, 'total_tokens': 833, 'completion_tokens_details': None, 'prompt_tokens_details': None, 'queue_time': 0.232249716, 'prompt_time': 0.032127791, 'completion_time': 0.091374234, 'total_time': 0.123502025}, 'model_name': 'meta-llama/llama-4-scout-17b-16e-instruct', 'system_fingerprint': 'fp_37da608fc1', 'id': 'chatcmpl-425f7062-ca5a-4b4f-bdcc-2b290915fe5e', 'service_tier': 'on_demand', 'finish_reason': 'tool_calls', 'logprobs': None}, id='run--4912dadf-a014-4f10-9305-16dd09febcb0-0', tool_calls=[{'name': 'get_current_time', 'args': {'location': '부산', 'timezone': 'Asia/Seoul'}, 'id': 'w1ae2xk3q', 'type': 'tool_call'}], usage_metadata={'input_tokens': 793, 'output_tokens': 40, 'total_tokens': 833, 'input_token_details': {}, 'output_token_details': {}}),\n",
       " ToolMessage(content='Asia/Seoul (부산) 현재시각 2025-08-13 01:01:14 ', name='get_current_time', tool_call_id='w1ae2xk3q')]"
      ]
     },
     "execution_count": 5,
     "metadata": {},
     "output_type": "execute_result"
    }
   ],
   "execution_count": 5
  },
  {
   "cell_type": "code",
   "metadata": {
    "ExecuteTime": {
     "end_time": "2025-08-12T16:01:17.473283Z",
     "start_time": "2025-08-12T16:01:16.825224Z"
    }
   },
   "source": [
    "llm_with_tools.invoke(messages)"
   ],
   "outputs": [
    {
     "data": {
      "text/plain": [
       "AIMessage(content='현재 부산은 01시 01분 14초 입니다.', additional_kwargs={'refusal': None}, response_metadata={'token_usage': {'completion_tokens': 15, 'prompt_tokens': 865, 'total_tokens': 880, 'completion_tokens_details': None, 'prompt_tokens_details': None, 'queue_time': 0.299846838, 'prompt_time': 0.032808283, 'completion_time': 0.038597364, 'total_time': 0.071405647}, 'model_name': 'meta-llama/llama-4-scout-17b-16e-instruct', 'system_fingerprint': 'fp_42ae451038', 'id': 'chatcmpl-1c2bd7e3-1aa0-41c7-9ae1-88ba4133b2cd', 'service_tier': 'on_demand', 'finish_reason': 'stop', 'logprobs': None}, id='run--ec025a74-2854-4a21-80da-6206944a4c54-0', usage_metadata={'input_tokens': 865, 'output_tokens': 15, 'total_tokens': 880, 'input_token_details': {}, 'output_token_details': {}})"
      ]
     },
     "execution_count": 6,
     "metadata": {},
     "output_type": "execute_result"
    }
   ],
   "execution_count": 6
  },
  {
   "cell_type": "code",
   "metadata": {
    "ExecuteTime": {
     "end_time": "2025-08-12T16:01:20.469478Z",
     "start_time": "2025-08-12T16:01:20.466851Z"
    }
   },
   "source": [
    "from pydantic import BaseModel, Field\n",
    "\n",
    "class StockHistoryInput(BaseModel):\n",
    "    ticker: str = Field(..., title=\"주식 코드\", description=\"주식 코드 (예: AAPL)\")\n",
    "    period: str = Field(..., title=\"기간\", description=\"주식 데이터 조회 기간 (예: 1d, 1mo, 1y)\")\n"
   ],
   "outputs": [],
   "execution_count": 7
  },
  {
   "cell_type": "code",
   "metadata": {
    "ExecuteTime": {
     "end_time": "2025-08-12T16:01:46.899889Z",
     "start_time": "2025-08-12T16:01:46.311700Z"
    }
   },
   "source": [
    "import yfinance as yf\n",
    "\n",
    "@tool\n",
    "def get_yf_stock_history(stock_history_input: StockHistoryInput) -> str:\n",
    "    \"\"\" 주식 종목의 가격 데이터를 조회하는 함수\"\"\"\n",
    "    stock = yf.Ticker(stock_history_input.ticker)\n",
    "    history = stock.history(period=stock_history_input.period)\n",
    "    history_md = history.to_markdown() \n",
    "\n",
    "    return history_md\n",
    "\n",
    "tools = [get_current_time, get_yf_stock_history]\n",
    "tool_dict = {\"get_current_time\": get_current_time, \"get_yf_stock_history\": get_yf_stock_history}\n",
    "\n",
    "llm_with_tools = llm.bind_tools(tools)"
   ],
   "outputs": [],
   "execution_count": 8
  },
  {
   "cell_type": "code",
   "metadata": {
    "ExecuteTime": {
     "end_time": "2025-08-12T16:02:02.992361Z",
     "start_time": "2025-08-12T16:02:01.896150Z"
    }
   },
   "source": [
    "messages.append(HumanMessage(\"테슬라는 한달 전에 비해 주가가 올랐나 내렸나?\"))\n",
    "\n",
    "response = llm_with_tools.invoke(messages)\n",
    "print(response)\n",
    "messages.append(response)\n",
    "\n",
    "# NOTE: 이 책의 의도상, 이 시점에서 llm 은 어떤 function 을 어떤 args 로 실행 해야 할지를 알려줘야 하는데, invoke 문에서 이미 tool function 이 실행 되었음.\n",
    "#       model : accounts/fireworks/models/llama4-maverick-instruct-basic\n",
    "#       > test_with_tools.py\n",
    "#       > LLM 이 헛소리를 하는 거 였음. llama 문제인가? > system message 에 반드시 함수를 이용하도록 강화"
   ],
   "outputs": [
    {
     "name": "stdout",
     "output_type": "stream",
     "text": [
      "content='' additional_kwargs={'tool_calls': [{'id': 'scs1rj2ec', 'function': {'arguments': '{\"stock_history_input\":{\"period\":\"1mo\",\"ticker\":\"TSLA\"}}', 'name': 'get_yf_stock_history'}, 'type': 'function'}], 'refusal': None} response_metadata={'token_usage': {'completion_tokens': 41, 'prompt_tokens': 978, 'total_tokens': 1019, 'completion_tokens_details': None, 'prompt_tokens_details': None, 'queue_time': 0.714986359, 'prompt_time': 0.038328631, 'completion_time': 0.108980784, 'total_time': 0.147309415}, 'model_name': 'meta-llama/llama-4-scout-17b-16e-instruct', 'system_fingerprint': 'fp_42ae451038', 'id': 'chatcmpl-cbb0135b-5377-43f6-b6d9-e3509647c876', 'service_tier': 'on_demand', 'finish_reason': 'tool_calls', 'logprobs': None} id='run--d43114f1-85cc-4a67-9ae3-4164956ced91-0' tool_calls=[{'name': 'get_yf_stock_history', 'args': {'stock_history_input': {'period': '1mo', 'ticker': 'TSLA'}}, 'id': 'scs1rj2ec', 'type': 'tool_call'}] usage_metadata={'input_tokens': 978, 'output_tokens': 41, 'total_tokens': 1019, 'input_token_details': {}, 'output_token_details': {}}\n"
     ]
    }
   ],
   "execution_count": 9
  },
  {
   "cell_type": "code",
   "metadata": {
    "ExecuteTime": {
     "end_time": "2025-08-12T16:02:16.914718Z",
     "start_time": "2025-08-12T16:02:15.734791Z"
    }
   },
   "source": [
    "for tool_call in response.tool_calls:\n",
    "    selected_tool = tool_dict[tool_call[\"name\"]]\n",
    "    print(tool_call[\"args\"])\n",
    "    tool_msg = selected_tool.invoke(tool_call)\n",
    "    messages.append(tool_msg)\n",
    "    print(tool_msg)"
   ],
   "outputs": [
    {
     "name": "stdout",
     "output_type": "stream",
     "text": [
      "{'stock_history_input': {'period': '1mo', 'ticker': 'TSLA'}}\n",
      "content='| Date                      |   Open |   High |    Low |   Close |      Volume |   Dividends |   Stock Splits |\\n|:--------------------------|-------:|-------:|-------:|--------:|------------:|------------:|---------------:|\\n| 2025-07-14 00:00:00-04:00 | 317.73 | 322.6  | 312.67 |  316.9  | 7.80434e+07 |           0 |              0 |\\n| 2025-07-15 00:00:00-04:00 | 319.68 | 321.2  | 310.5  |  310.78 | 7.75563e+07 |           0 |              0 |\\n| 2025-07-16 00:00:00-04:00 | 312.8  | 323.5  | 312.62 |  321.67 | 9.72848e+07 |           0 |              0 |\\n| 2025-07-17 00:00:00-04:00 | 323.15 | 324.34 | 317.06 |  319.41 | 7.39229e+07 |           0 |              0 |\\n| 2025-07-18 00:00:00-04:00 | 321.66 | 330.9  | 321.42 |  329.65 | 9.4255e+07  |           0 |              0 |\\n| 2025-07-21 00:00:00-04:00 | 334.4  | 338    | 326.88 |  328.49 | 7.57688e+07 |           0 |              0 |\\n| 2025-07-22 00:00:00-04:00 | 329.74 | 335.41 | 321.55 |  332.11 | 7.73704e+07 |           0 |              0 |\\n| 2025-07-23 00:00:00-04:00 | 330.9  | 336.2  | 328.67 |  332.56 | 9.25538e+07 |           0 |              0 |\\n| 2025-07-24 00:00:00-04:00 | 310    | 310.15 | 300.41 |  305.3  | 1.56966e+08 |           0 |              0 |\\n| 2025-07-25 00:00:00-04:00 | 308.74 | 323.63 | 308.01 |  316.06 | 1.48227e+08 |           0 |              0 |\\n| 2025-07-28 00:00:00-04:00 | 318.45 | 330.49 | 315.69 |  325.59 | 1.12674e+08 |           0 |              0 |\\n| 2025-07-29 00:00:00-04:00 | 325.55 | 326.25 | 318.25 |  321.2  | 8.73589e+07 |           0 |              0 |\\n| 2025-07-30 00:00:00-04:00 | 322.18 | 324.45 | 311.62 |  319.04 | 8.39319e+07 |           0 |              0 |\\n| 2025-07-31 00:00:00-04:00 | 319.61 | 321.37 | 306.1  |  308.27 | 8.52709e+07 |           0 |              0 |\\n| 2025-08-01 00:00:00-04:00 | 306.21 | 309.31 | 297.82 |  302.63 | 8.91214e+07 |           0 |              0 |\\n| 2025-08-04 00:00:00-04:00 | 309.08 | 312.12 | 303    |  309.26 | 7.86839e+07 |           0 |              0 |\\n| 2025-08-05 00:00:00-04:00 | 308.95 | 312.45 | 305.5  |  308.72 | 5.79613e+07 |           0 |              0 |\\n| 2025-08-06 00:00:00-04:00 | 307.89 | 320.47 | 306.93 |  319.91 | 7.85236e+07 |           0 |              0 |\\n| 2025-08-07 00:00:00-04:00 | 319.79 | 322.4  | 316.16 |  322.27 | 6.66587e+07 |           0 |              0 |\\n| 2025-08-08 00:00:00-04:00 | 321.43 | 335.15 | 320.98 |  329.65 | 9.12003e+07 |           0 |              0 |\\n| 2025-08-11 00:00:00-04:00 | 335    | 346.64 | 334.15 |  339.03 | 1.04967e+08 |           0 |              0 |\\n| 2025-08-12 00:00:00-04:00 | 345.05 | 345.26 | 332.94 |  337.63 | 4.58734e+07 |           0 |              0 |' name='get_yf_stock_history' tool_call_id='scs1rj2ec'\n"
     ]
    }
   ],
   "execution_count": 10
  },
  {
   "cell_type": "code",
   "metadata": {
    "ExecuteTime": {
     "end_time": "2025-08-12T16:02:38.795227Z",
     "start_time": "2025-08-12T16:02:37.465549Z"
    }
   },
   "source": "llm_with_tools.invoke(messages)",
   "outputs": [
    {
     "data": {
      "text/plain": [
       "AIMessage(content='테슬라는 한달 전에 비해 주가가 올랐다.', additional_kwargs={'refusal': None}, response_metadata={'token_usage': {'completion_tokens': 12, 'prompt_tokens': 2055, 'total_tokens': 2067, 'completion_tokens_details': None, 'prompt_tokens_details': None, 'queue_time': 0.929292711, 'prompt_time': 0.098889333, 'completion_time': 0.030860327, 'total_time': 0.12974966}, 'model_name': 'meta-llama/llama-4-scout-17b-16e-instruct', 'system_fingerprint': 'fp_79da0e0073', 'id': 'chatcmpl-4239dcf1-f178-4f26-9d1f-9c6ae55ca350', 'service_tier': 'on_demand', 'finish_reason': 'stop', 'logprobs': None}, id='run--bf175294-9a27-4e3a-b48e-3e4753b05e20-0', usage_metadata={'input_tokens': 2055, 'output_tokens': 12, 'total_tokens': 2067, 'input_token_details': {}, 'output_token_details': {}})"
      ]
     },
     "execution_count": 11,
     "metadata": {},
     "output_type": "execute_result"
    }
   ],
   "execution_count": 11
  }
 ],
 "metadata": {
  "kernelspec": {
   "display_name": "venv",
   "language": "python",
   "name": "python3"
  },
  "language_info": {
   "codemirror_mode": {
    "name": "ipython",
    "version": 3
   },
   "file_extension": ".py",
   "mimetype": "text/x-python",
   "name": "python",
   "nbconvert_exporter": "python",
   "pygments_lexer": "ipython3",
   "version": "3.12.9"
  }
 },
 "nbformat": 4,
 "nbformat_minor": 2
}
