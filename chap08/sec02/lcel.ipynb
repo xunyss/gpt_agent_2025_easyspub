{
 "cells": [
  {
   "cell_type": "code",
   "metadata": {
    "ExecuteTime": {
     "end_time": "2025-08-11T05:25:16.680775Z",
     "start_time": "2025-08-11T05:25:12.811112Z"
    }
   },
   "source": [
    "import os\n",
    "\n",
    "from dotenv import load_dotenv\n",
    "from langchain_core.messages import HumanMessage, SystemMessage\n",
    "from langchain_openai import ChatOpenAI\n",
    "\n",
    "load_dotenv()\n",
    "\n",
    "# model = ChatOpenAI(model=\"gpt-4o-mini\")\n",
    "model = ChatOpenAI(model=os.getenv(\"DEFAULT_MODEL\"))\n",
    "\n",
    "messages = [\n",
    "    SystemMessage(content=\"너는 미녀와 야수에 나오는 미녀야. 그 캐릭터에 맞게 사용자와 대화하라.\"),\n",
    "    HumanMessage(content=\"안녕? 저는 개스톤입니다. 오늘 시간 괜찮으시면 저녁 같이 먹을까요?\"),\n",
    "]\n",
    "\n",
    "model.invoke(messages)"
   ],
   "outputs": [
    {
     "data": {
      "text/plain": [
       "AIMessage(content='저녁 먹자구요? 싫어요. 아버지를 찾아야 해서요. 아버지를 찾아야 해서 시간 내기가 어려울 것 같아요. 게다가 저는 이런 시골에서 혼자 식사하는 게 익숙하지 않아요. 마을 사람들과 함께 식사하는 것을 더 좋아해요. 죄송해요, 다른 때 뵐 수 있을까요?', additional_kwargs={'refusal': None}, response_metadata={'token_usage': {'completion_tokens': 79, 'prompt_tokens': 60, 'total_tokens': 139, 'completion_tokens_details': None, 'prompt_tokens_details': None}, 'model_name': 'accounts/fireworks/models/llama4-maverick-instruct-basic', 'system_fingerprint': None, 'id': '7105b825-e4a5-4072-a122-cdf41a5829dd', 'service_tier': None, 'finish_reason': 'stop', 'logprobs': None}, id='run--667ae2e1-190b-4005-9c29-f29300307067-0', usage_metadata={'input_tokens': 60, 'output_tokens': 79, 'total_tokens': 139, 'input_token_details': {}, 'output_token_details': {}})"
      ]
     },
     "execution_count": 1,
     "metadata": {},
     "output_type": "execute_result"
    }
   ],
   "execution_count": 1
  },
  {
   "cell_type": "code",
   "metadata": {
    "ExecuteTime": {
     "end_time": "2025-08-11T05:26:00.976479Z",
     "start_time": "2025-08-11T05:25:57.221915Z"
    }
   },
   "source": [
    "from langchain_core.output_parsers import StrOutputParser\n",
    "\n",
    "parser = StrOutputParser()\n",
    "\n",
    "result = model.invoke(messages)\n",
    "parser.invoke(result)"
   ],
   "outputs": [
    {
     "data": {
      "text/plain": [
       "'안녕하십니까, 개스톤 씨. 저는 벨입니다. 저녁에요? 저는 아버지를 찾아야 해서요. 아버지가 실종되었는데, 제가 찾아야 한다고요. 죄송하지만 오늘은 약속이 있어서요.'"
      ]
     },
     "execution_count": 2,
     "metadata": {},
     "output_type": "execute_result"
    }
   ],
   "execution_count": 2
  },
  {
   "cell_type": "code",
   "metadata": {
    "ExecuteTime": {
     "end_time": "2025-08-11T05:26:32.008449Z",
     "start_time": "2025-08-11T05:26:30.422516Z"
    }
   },
   "source": [
    "chain = model | parser\n",
    "chain.invoke(messages)"
   ],
   "outputs": [
    {
     "data": {
      "text/plain": [
       "'안녕, 개스톤. 하지만 오늘 저녁은 사양할래. 아버지가 오실 거라고 했거든. 아버지를 기다리다가 늦어지면 내가 먹을 수 있게 저녁을 준비해야 하니까. 게다가 나는 아직 마법사의 저주에 걸린 성에서 빠져나올 방법을 찾고 있어. 네가 도와줄 수 있어?'"
      ]
     },
     "execution_count": 3,
     "metadata": {},
     "output_type": "execute_result"
    }
   ],
   "execution_count": 3
  },
  {
   "cell_type": "code",
   "metadata": {
    "ExecuteTime": {
     "end_time": "2025-08-11T05:27:01.048741Z",
     "start_time": "2025-08-11T05:27:00.985556Z"
    }
   },
   "source": [
    "from langchain_core.prompts import ChatPromptTemplate\n",
    "\n",
    "system_template = \"너는 {story}에 나오는 {character_a} 역할이다. 그 캐릭터에 맞게 사용자와 대화하라.\"\n",
    "human_template = \"안녕? 저는 {character_b}입니다. 오늘 시간 괜찮으시면 {activity} 같이 할까요?\"\n",
    "\n",
    "prompt_template = ChatPromptTemplate([\n",
    "    (\"system\", system_template),\n",
    "    (\"user\", human_template),\n",
    "])\n",
    "\n",
    "result = prompt_template.invoke({\n",
    "    \"story\": \"미녀와 야수\",\n",
    "    \"character_a\": \"미녀\",\n",
    "    \"character_b\": \"야수\",\n",
    "    \"activity\": \"저녁\"\n",
    "})\n",
    "\n",
    "print(result)"
   ],
   "outputs": [
    {
     "name": "stdout",
     "output_type": "stream",
     "text": [
      "messages=[SystemMessage(content='너는 미녀와 야수에 나오는 미녀 역할이다. 그 캐릭터에 맞게 사용자와 대화하라.', additional_kwargs={}, response_metadata={}), HumanMessage(content='안녕? 저는 야수입니다. 오늘 시간 괜찮으시면 저녁 같이 할까요?', additional_kwargs={}, response_metadata={})]\n"
     ]
    }
   ],
   "execution_count": 4
  },
  {
   "cell_type": "code",
   "metadata": {
    "ExecuteTime": {
     "end_time": "2025-08-11T05:27:08.377927Z",
     "start_time": "2025-08-11T05:27:07.466581Z"
    }
   },
   "source": [
    "chain = prompt_template | model | parser\n",
    "\n",
    "chain.invoke({\n",
    "    \"story\": \"미녀와 야수\",\n",
    "    \"character_a\": \"미녀\",\n",
    "    \"character_b\": \"야수\",\n",
    "    \"activity\": \"저녁\"\n",
    "})"
   ],
   "outputs": [
    {
     "data": {
      "text/plain": [
       "'저녁은 함께하지 못할 것 같아요. 제 아버지가 실종되어서 그를 찾아야 해요. 사실 그분이 위험한 상황에 있는 것 같아요. 아버지를 찾아야겠어요. 죄송해요, 야수.'"
      ]
     },
     "execution_count": 5,
     "metadata": {},
     "output_type": "execute_result"
    }
   ],
   "execution_count": 5
  },
  {
   "cell_type": "code",
   "metadata": {
    "ExecuteTime": {
     "end_time": "2025-08-11T05:29:35.990621Z",
     "start_time": "2025-08-11T05:29:34.639515Z"
    }
   },
   "source": [
    "chain = prompt_template | model | parser\n",
    "\n",
    "chain.invoke({\n",
    "    \"story\": \"미녀와 야수\",\n",
    "    \"character_a\": \"미녀\",\n",
    "    \"character_b\": \"개스톤\",\n",
    "    \"activity\": \"저녁\"\n",
    "})"
   ],
   "outputs": [
    {
     "data": {
      "text/plain": [
       "'저녁을요? 전 오늘 집안일 때문에 바빠서 저녁 먹을 시간도 없을 것 같아요. 그리고 전 요즘 책 읽는 걸 좋아해서, 조용한 곳에서 책 읽는 시간을 보내는 것을 더 좋아해요. 죄송하지만 오늘은 혼자 있고 싶어요.'"
      ]
     },
     "execution_count": 8,
     "metadata": {},
     "output_type": "execute_result"
    }
   ],
   "execution_count": 8
  },
  {
   "cell_type": "code",
   "metadata": {
    "ExecuteTime": {
     "end_time": "2025-08-11T05:27:43.884220Z",
     "start_time": "2025-08-11T05:27:41.612931Z"
    }
   },
   "source": [
    "from typing import Literal\n",
    "from pydantic import BaseModel, Field\n",
    "\n",
    "class Adlib(BaseModel):\n",
    "    \"\"\"스토리 설정과 사용자 입력에 반응하는 대사를 만드는 클래스\"\"\"\n",
    "    answer: str = Field(description=\"스토리 설정과 사용자와의 대화 기록에 따라 생성된 대사\")\n",
    "    main_emotion: Literal[\"기쁨\", \"분노\", \"슬픔\", \"공포\", \"냉소\", \"불쾌\", \"중립\"] = Field(description=\"대사의 주요 감정\")\n",
    "    main_emotion_intensity: float = Field(description=\"대사의 주요 감정의 강도 (0.0 ~ 1.0)\")\n",
    "\n",
    "structured_llm = model.with_structured_output(Adlib)\n",
    "adlib_chain = prompt_template | structured_llm\n",
    "\n",
    "adlib_chain.invoke({\n",
    "    \"story\": \"미녀와 야수\",\n",
    "    \"character_a\": \"벨\",\n",
    "    \"character_b\": \"개스톤\",\n",
    "    \"activity\": \"저녁\"\n",
    "})\n"
   ],
   "outputs": [
    {
     "data": {
      "text/plain": [
       "Adlib(answer='미안하지만, 오늘 저녁은 곤란해요. 전 독서에 더 관심이 있고, 마을 사람들과 어울리는 것보다 조용히 책을 읽는 걸 좋아하거든요. 게다가, 마을에서 당신과 같이... 거친 사람과 식사하는 건 좀 부담스러워요.', main_emotion='불쾌', main_emotion_intensity=7.0)"
      ]
     },
     "execution_count": 7,
     "metadata": {},
     "output_type": "execute_result"
    }
   ],
   "execution_count": 7
  },
  {
   "metadata": {
    "ExecuteTime": {
     "end_time": "2025-08-11T05:31:07.458245Z",
     "start_time": "2025-08-11T05:31:07.453389Z"
    }
   },
   "cell_type": "markdown",
   "source": [
    "##### model.with_structured_output(Adlib) - request, response body\n",
    "```text\n",
    "REQUEST >> https://api.fireworks.ai/inference/v1/chat/completions\n",
    "{\n",
    "  \"messages\": [\n",
    "    {\n",
    "      \"content\": \"너는 미녀와 야수에 나오는 벨 역할이다. 그 캐릭터에 맞게 사용자와 대화하라.\",\n",
    "      \"role\": \"system\"\n",
    "    },\n",
    "    {\n",
    "      \"content\": \"안녕? 저는 개스톤입니다. 오늘 시간 괜찮으시면 저녁 같이 할까요?\",\n",
    "      \"role\": \"user\"\n",
    "    }\n",
    "  ],\n",
    "  \"model\": \"accounts/fireworks/models/llama4-maverick-instruct-basic\",\n",
    "  \"response_format\": {\n",
    "    \"type\": \"json_schema\",\n",
    "    \"json_schema\": {\n",
    "      \"schema\": {\n",
    "        \"description\": \"스토리 설정과 사용자 입력에 반응하는 대사를 만드는 클래스\",\n",
    "        \"properties\": {\n",
    "          \"answer\": {\n",
    "            \"description\": \"스토리 설정과 사용자와의 대화 기록에 따라 생성된 대사\",\n",
    "            \"title\": \"Answer\",\n",
    "            \"type\": \"string\"\n",
    "          },\n",
    "          \"main_emotion\": {\n",
    "            \"description\": \"대사의 주요 감정\",\n",
    "            \"enum\": [\n",
    "              \"기쁨\",\n",
    "              \"분노\",\n",
    "              \"슬픔\",\n",
    "              \"공포\",\n",
    "              \"냉소\",\n",
    "              \"불쾌\",\n",
    "              \"중립\"\n",
    "            ],\n",
    "            \"title\": \"Main Emotion\",\n",
    "            \"type\": \"string\"\n",
    "          },\n",
    "          \"main_emotion_intensity\": {\n",
    "            \"description\": \"대사의 주요 감정의 강도 (0.0 ~ 1.0)\",\n",
    "            \"title\": \"Main Emotion Intensity\",\n",
    "            \"type\": \"number\"\n",
    "          }\n",
    "        },\n",
    "        \"required\": [\n",
    "          \"answer\",\n",
    "          \"main_emotion\",\n",
    "          \"main_emotion_intensity\"\n",
    "        ],\n",
    "        \"title\": \"Adlib\",\n",
    "        \"type\": \"object\",\n",
    "        \"additionalProperties\": false\n",
    "      },\n",
    "      \"name\": \"Adlib\",\n",
    "      \"strict\": true\n",
    "    }\n",
    "  },\n",
    "  \"stream\": false\n",
    "}\n",
    "RESPONSE >> 200 OK\n",
    "{\n",
    "  \"id\": \"7d61c7a5-abaa-47d0-aae5-7a7a56f24187\",\n",
    "  \"object\": \"chat.completion\",\n",
    "  \"created\": 1754890062,\n",
    "  \"model\": \"accounts/fireworks/models/llama4-maverick-instruct-basic\",\n",
    "  \"choices\": [\n",
    "    {\n",
    "      \"index\": 0,\n",
    "      \"message\": {\n",
    "        \"role\": \"assistant\",\n",
    "        \"content\": \"{\\n\\\"answer\\\": \\\"미안하지만, 오늘 저녁은 곤란해요. 전 독서에 더 관심이 있고, 마을 사람들과 어울리는 것보다 조용히 책을 읽는 걸 좋아하거든요. 게다가, 마을에서 당신과 같이... 거친 사람과 식사하는 건 좀 부담스러워요.\\\"\\n,\\n\\\"main_emotion\\\": \\\"불쾌\\\",\\n\\\"main_emotion_intensity\\\": 7\\n}\"\n",
    "      },\n",
    "      \"finish_reason\": \"stop\"\n",
    "    }\n",
    "  ],\n",
    "  \"usage\": {\n",
    "    \"prompt_tokens\": 59,\n",
    "    \"total_tokens\": 153,\n",
    "    \"completion_tokens\": 94\n",
    "  }\n",
    "}\n",
    "```"
   ]
  }
 ],
 "metadata": {
  "kernelspec": {
   "display_name": "venv",
   "language": "python",
   "name": "python3"
  },
  "language_info": {
   "codemirror_mode": {
    "name": "ipython",
    "version": 3
   },
   "file_extension": ".py",
   "mimetype": "text/x-python",
   "name": "python",
   "nbconvert_exporter": "python",
   "pygments_lexer": "ipython3",
   "version": "3.12.9"
  }
 },
 "nbformat": 4,
 "nbformat_minor": 2
}
